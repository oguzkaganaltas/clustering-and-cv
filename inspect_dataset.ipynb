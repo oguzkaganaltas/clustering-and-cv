{
 "cells": [
  {
   "cell_type": "code",
   "execution_count": 455,
   "metadata": {},
   "outputs": [],
   "source": [
    "import numpy as np\n",
    "import pandas as pd\n",
    "import matplotlib.pyplot as plt\n",
    "import os"
   ]
  },
  {
   "cell_type": "code",
   "execution_count": 456,
   "metadata": {},
   "outputs": [],
   "source": [
    "train_set = np.load(\"knn/train_set.npy\")\n",
    "train_labels = np.load(\"knn/train_labels.npy\")\n",
    "\n",
    "test_set = np.load(\"knn/test_set.npy\")\n",
    "test_labels = np.load(\"knn/test_labels.npy\")\n"
   ]
  },
  {
   "cell_type": "code",
   "execution_count": 457,
   "metadata": {},
   "outputs": [],
   "source": [
    "def calculate_distances(train_data, test_instance, distance_metric):\n",
    "    \"\"\"\n",
    "    Calculates Manhattan (L1) / Euclidean (L2) distances between test_instance and every train instance.\n",
    "    :param train_data: An (N, D) shaped numpy array where N is the number of examples\n",
    "    and D is the dimension of the data.\n",
    "    :param test_instance: A (D, ) shaped numpy array.\n",
    "    :param distance_metric: A string which indicates the distance metric, it can be either 'L1' or 'L2'\n",
    "    :return: An (N, ) shaped numpy array that contains distances.\n",
    "    \"\"\"\n",
    "    def distance_calculate(A,B,func):\n",
    "        if func == \"L2\":\n",
    "            return (sum((a-b)**(2) for a, b in zip(A,B)))**(0.5)\n",
    "        elif func == \"L1\":\n",
    "            return sum(abs(a-b) for a, b in zip(A,B))\n",
    "    distances = []\n",
    "    for i in range(len(train_data)):\n",
    "        distances.append(distance_calculate(train_data[i],test_instance,distance_metric))\n",
    "    return np.array(distances)\n"
   ]
  },
  {
   "cell_type": "code",
   "execution_count": 458,
   "metadata": {},
   "outputs": [],
   "source": [
    "def majority_voting(distances, labels, k):\n",
    "    \"\"\"\n",
    "    Applies majority voting. If there are more then one major class, returns the smallest label.\n",
    "    :param distances: An (N, ) shaped numpy array that contains distances\n",
    "    :param labels: An (N, ) shaped numpy array that contains labels\n",
    "    :param k: An integer. The number of nearest neighbor to be selected.\n",
    "    :return: An integer. The label of the majority class.\n",
    "    \"\"\"\n",
    "    sorted_idxs = np.argsort(np.array(distances))\n",
    "    labels = np.array(labels)\n",
    "    labels = labels[sorted_idxs]\n",
    "    return np.argmax(np.bincount(labels[:k]))\n"
   ]
  },
  {
   "cell_type": "code",
   "execution_count": 459,
   "metadata": {},
   "outputs": [],
   "source": [
    "def split_train_and_validation(whole_train_data, whole_train_labels, validation_index, k_fold):\n",
    "    \"\"\"\n",
    "    Splits training dataset into k and returns the validation_indexth one as the\n",
    "    validation set and others as the training set. You can assume k_fold divides N.\n",
    "    :param whole_train_data: An (N, D) shaped numpy array where N is the number of examples\n",
    "    and D is the dimension of the data\n",
    "    :param whole_train_labels: An (N, ) shaped numpy array that contains labels\n",
    "    :param validation_index: An integer. 0 <= validation_index < k_fold. Specifies which fold\n",
    "    will be assigned as validation set.\n",
    "    :param k_fold: The number of groups that the whole_train_data will be divided into.\n",
    "    :return: train_data, train_labels, validation_data, validation_labels\n",
    "    train_data.shape is (N-N/k_fold, D).\n",
    "    train_labels.shape is (N-N/k_fold, ).\n",
    "    validation_data.shape is (N/k_fold, D).\n",
    "    validation_labels.shape is (N/k_fold, ).\n",
    "    \"\"\"\n",
    "    \n",
    "    splitted_whole_train_data = np.array_split(whole_train_data,k_fold,axis=0)\n",
    "    validation_data = np.asarray(splitted_whole_train_data[validation_index])\n",
    "    \n",
    "    splitted_whole_train_labels = np.array_split(whole_train_labels,k_fold,axis=0)\n",
    "    validation_labels = np.asarray(splitted_whole_train_labels[validation_index])\n",
    "\n",
    "    train_data = np.delete(splitted_whole_train_data,validation_index,axis=0)\n",
    "    train_labels = np.delete(splitted_whole_train_labels,validation_index,axis=0)\n",
    "\n",
    "    return np.concatenate(train_data), np.concatenate(train_labels), validation_data, validation_labels\n",
    "    \n",
    "\n",
    "    "
   ]
  },
  {
   "cell_type": "code",
   "execution_count": 460,
   "metadata": {},
   "outputs": [],
   "source": [
    "train_data_split, train_labels_split, validation_data_split, validation_labels_split = split_train_and_validation(train_set, train_labels, 0, 10)\n"
   ]
  },
  {
   "cell_type": "code",
   "execution_count": 461,
   "metadata": {},
   "outputs": [],
   "source": [
    "def knn(train_data, train_labels, test_data, test_labels, k, distance_metric):\n",
    "    \"\"\"\n",
    "    Calculates accuracy of knn on test data using train_data.\n",
    "    :param train_data: An (N, D) shaped numpy array where N is the number of examples\n",
    "    and D is the dimension of the data\n",
    "    :param train_labels: An (N, ) shaped numpy array that contains labels\n",
    "    :param test_data: An (M, D) shaped numpy array where M is the number of examples\n",
    "    and D is the dimension of the data\n",
    "    :param test_labels: An (M, ) shaped numpy array that contains labels\n",
    "    :param k: An integer. The number of nearest neighbor to be selected.\n",
    "    :param distance_metric: A string which indicates the distance metric, it can be either 'L1' or 'L2'\n",
    "    :return: A float. The calculated accuracy.\n",
    "    \"\"\"\n",
    "    pred =[]\n",
    "    for instance in test_data:\n",
    "        distances = calculate_distances(train_data,instance,distance_metric)\n",
    "        assigned_class = majority_voting(distances,train_labels,k)\n",
    "        pred.append(assigned_class)\n",
    "    difference = pred - test_labels\n",
    "    correct = len(np.where(difference == 0)[0])\n",
    "    return correct/len(test_labels)"
   ]
  },
  {
   "cell_type": "code",
   "execution_count": 462,
   "metadata": {},
   "outputs": [
    {
     "data": {
      "text/plain": [
       "0.7611111111111111"
      ]
     },
     "execution_count": 462,
     "metadata": {},
     "output_type": "execute_result"
    }
   ],
   "source": [
    "knn(train_set,train_labels,test_set,test_labels,3,\"L2\")"
   ]
  },
  {
   "cell_type": "code",
   "execution_count": 463,
   "metadata": {},
   "outputs": [],
   "source": [
    "def cross_validation(whole_train_data, whole_train_labels, k_fold, k, distance_metric):\n",
    "    \"\"\"\n",
    "    Applies k_fold cross-validation and averages the calculated accuracies.\n",
    "    :param whole_train_data: An (N, D) shaped numpy array where N is the number of examples\n",
    "    and D is the dimension of the data\n",
    "    :param whole_train_labels: An (N, ) shaped numpy array that contains labels\n",
    "    :param k_fold: An integer.\n",
    "    :param k: An integer. The number of nearest neighbor to be selected.\n",
    "    :param distance_metric: A string which indicates the distance metric, it can be either 'L1' or 'L2'\n",
    "    :return: A float. Average accuracy calculated.\n",
    "    \"\"\"\n",
    "    accuracy = []\n",
    "    for index in range(k_fold):\n",
    "        train_data_split, train_labels_split, validation_data_split, validation_labels_split = split_train_and_validation(whole_train_data, whole_train_labels, index, k_fold)\n",
    "        accuracy.append(knn(train_data_split,train_labels_split,validation_data_split,validation_labels_split,k,distance_metric))\n",
    "    return accuracy"
   ]
  },
  {
   "cell_type": "code",
   "execution_count": 464,
   "metadata": {},
   "outputs": [
    {
     "data": {
      "text/plain": [
       "[0.8260869565217391,\n",
       " 0.8695652173913043,\n",
       " 0.6956521739130435,\n",
       " 0.7391304347826086,\n",
       " 0.6521739130434783,\n",
       " 0.7272727272727273,\n",
       " 0.9090909090909091,\n",
       " 0.8181818181818182,\n",
       " 0.8181818181818182,\n",
       " 0.7727272727272727]"
      ]
     },
     "execution_count": 464,
     "metadata": {},
     "output_type": "execute_result"
    }
   ],
   "source": [
    "cross_validation(train_set,train_labels,10,3,\"L2\")"
   ]
  },
  {
   "cell_type": "code",
   "execution_count": null,
   "metadata": {},
   "outputs": [],
   "source": []
  },
  {
   "cell_type": "code",
   "execution_count": null,
   "metadata": {},
   "outputs": [],
   "source": []
  }
 ],
 "metadata": {
  "interpreter": {
   "hash": "73cb587e981b46ef4cd8747ecb5a483b6f1d7dde7741ee2cacb92c485f9a68cd"
  },
  "kernelspec": {
   "display_name": "Python 3.8.12 64-bit ('pytorch': conda)",
   "language": "python",
   "name": "python3"
  },
  "language_info": {
   "codemirror_mode": {
    "name": "ipython",
    "version": 3
   },
   "file_extension": ".py",
   "mimetype": "text/x-python",
   "name": "python",
   "nbconvert_exporter": "python",
   "pygments_lexer": "ipython3",
   "version": "3.8.12"
  },
  "orig_nbformat": 4
 },
 "nbformat": 4,
 "nbformat_minor": 2
}
